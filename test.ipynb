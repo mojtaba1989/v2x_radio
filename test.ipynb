{
 "cells": [
  {
   "cell_type": "code",
   "execution_count": 24,
   "metadata": {},
   "outputs": [],
   "source": [
    "import socket\n",
    "import struct\n",
    "import time"
   ]
  },
  {
   "cell_type": "code",
   "execution_count": 25,
   "metadata": {},
   "outputs": [],
   "source": [
    "STRUCT_FORMAT = \"<Qffff\"  # Q = uint64_t, i = int\n",
    "\n",
    "# Target UDP address and port\n",
    "UDP_IP = \"10.0.0.214\"\n",
    "UDP_PORT = 1551\n",
    "sock = socket.socket(socket.AF_INET, socket.SOCK_DGRAM)\n"
   ]
  },
  {
   "cell_type": "code",
   "execution_count": 26,
   "metadata": {},
   "outputs": [],
   "source": [
    "def send_udp_gps():\n",
    "    while True:\n",
    "        # Prepare data\n",
    "        time_ms = int(time.time() * 1000)  # Current time in milliseconds\n",
    "        latitude = 37.5123456  # Example latitude (37.5123456° in 1/10 microdegrees)\n",
    "        longitude = -12.2123456  # Example longitude (-122.123456° in 1/10 microdegrees)\n",
    "        elevation = 12.3  # Example elevation (12.3 meters)\n",
    "        speed = 1.5  # Example speed (m/s)\n",
    "\n",
    "        # Pack the data using struct\n",
    "        packed_data = struct.pack(STRUCT_FORMAT, time_ms, latitude, longitude, elevation, speed)\n",
    "        # print(packed_data)\n",
    "        # print(len(packed_data))\n",
    "        # return\n",
    "\n",
    "        # Send the packed data over UDP\n",
    "        sock.sendto(packed_data, (UDP_IP, UDP_PORT))\n",
    "        print(f\"Sent data: time_ms={time_ms}, latitude={latitude}, longitude={longitude}, elevation={elevation}, speed={speed}\")\n",
    "\n",
    "        # Wait before sending the next packet\n",
    "        time.sleep(.1)  # Send data every 1 second\n"
   ]
  },
  {
   "cell_type": "code",
   "execution_count": 28,
   "metadata": {},
   "outputs": [
    {
     "ename": "OSError",
     "evalue": "[WinError 10038] An operation was attempted on something that is not a socket",
     "output_type": "error",
     "traceback": [
      "\u001b[1;31m---------------------------------------------------------------------------\u001b[0m",
      "\u001b[1;31mOSError\u001b[0m                                   Traceback (most recent call last)",
      "Cell \u001b[1;32mIn[28], line 2\u001b[0m\n\u001b[0;32m      1\u001b[0m \u001b[38;5;28;01mtry\u001b[39;00m:\n\u001b[1;32m----> 2\u001b[0m     \u001b[43msend_udp_gps\u001b[49m\u001b[43m(\u001b[49m\u001b[43m)\u001b[49m\n\u001b[0;32m      3\u001b[0m \u001b[38;5;28;01mexcept\u001b[39;00m \u001b[38;5;167;01mKeyboardInterrupt\u001b[39;00m:\n\u001b[0;32m      4\u001b[0m     \u001b[38;5;28mprint\u001b[39m(\u001b[38;5;124m\"\u001b[39m\u001b[38;5;124mStopped sending data.\u001b[39m\u001b[38;5;124m\"\u001b[39m)\n",
      "Cell \u001b[1;32mIn[26], line 17\u001b[0m, in \u001b[0;36msend_udp_gps\u001b[1;34m()\u001b[0m\n\u001b[0;32m     11\u001b[0m packed_data \u001b[38;5;241m=\u001b[39m struct\u001b[38;5;241m.\u001b[39mpack(STRUCT_FORMAT, time_ms, latitude, longitude, elevation, speed)\n\u001b[0;32m     12\u001b[0m \u001b[38;5;66;03m# print(packed_data)\u001b[39;00m\n\u001b[0;32m     13\u001b[0m \u001b[38;5;66;03m# print(len(packed_data))\u001b[39;00m\n\u001b[0;32m     14\u001b[0m \u001b[38;5;66;03m# return\u001b[39;00m\n\u001b[0;32m     15\u001b[0m \n\u001b[0;32m     16\u001b[0m \u001b[38;5;66;03m# Send the packed data over UDP\u001b[39;00m\n\u001b[1;32m---> 17\u001b[0m \u001b[43msock\u001b[49m\u001b[38;5;241;43m.\u001b[39;49m\u001b[43msendto\u001b[49m\u001b[43m(\u001b[49m\u001b[43mpacked_data\u001b[49m\u001b[43m,\u001b[49m\u001b[43m \u001b[49m\u001b[43m(\u001b[49m\u001b[43mUDP_IP\u001b[49m\u001b[43m,\u001b[49m\u001b[43m \u001b[49m\u001b[43mUDP_PORT\u001b[49m\u001b[43m)\u001b[49m\u001b[43m)\u001b[49m\n\u001b[0;32m     18\u001b[0m \u001b[38;5;28mprint\u001b[39m(\u001b[38;5;124mf\u001b[39m\u001b[38;5;124m\"\u001b[39m\u001b[38;5;124mSent data: time_ms=\u001b[39m\u001b[38;5;132;01m{\u001b[39;00mtime_ms\u001b[38;5;132;01m}\u001b[39;00m\u001b[38;5;124m, latitude=\u001b[39m\u001b[38;5;132;01m{\u001b[39;00mlatitude\u001b[38;5;132;01m}\u001b[39;00m\u001b[38;5;124m, longitude=\u001b[39m\u001b[38;5;132;01m{\u001b[39;00mlongitude\u001b[38;5;132;01m}\u001b[39;00m\u001b[38;5;124m, elevation=\u001b[39m\u001b[38;5;132;01m{\u001b[39;00melevation\u001b[38;5;132;01m}\u001b[39;00m\u001b[38;5;124m, speed=\u001b[39m\u001b[38;5;132;01m{\u001b[39;00mspeed\u001b[38;5;132;01m}\u001b[39;00m\u001b[38;5;124m\"\u001b[39m)\n\u001b[0;32m     20\u001b[0m \u001b[38;5;66;03m# Wait before sending the next packet\u001b[39;00m\n",
      "\u001b[1;31mOSError\u001b[0m: [WinError 10038] An operation was attempted on something that is not a socket"
     ]
    }
   ],
   "source": [
    "try:\n",
    "    send_udp_gps()\n",
    "except KeyboardInterrupt:\n",
    "    print(\"Stopped sending data.\")\n",
    "    sock.close()"
   ]
  }
 ],
 "metadata": {
  "kernelspec": {
   "display_name": "cv",
   "language": "python",
   "name": "python3"
  },
  "language_info": {
   "codemirror_mode": {
    "name": "ipython",
    "version": 3
   },
   "file_extension": ".py",
   "mimetype": "text/x-python",
   "name": "python",
   "nbconvert_exporter": "python",
   "pygments_lexer": "ipython3",
   "version": "3.10.15"
  }
 },
 "nbformat": 4,
 "nbformat_minor": 2
}
